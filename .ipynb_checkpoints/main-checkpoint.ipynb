{
 "cells": [
  {
   "cell_type": "code",
   "execution_count": 1,
   "metadata": {
    "pycharm": {
     "name": "#%%\n"
    }
   },
   "outputs": [],
   "source": [
    "import subprocess"
   ]
  },
  {
   "cell_type": "code",
   "execution_count": 2,
   "metadata": {
    "pycharm": {
     "name": "#%%\n"
    }
   },
   "outputs": [],
   "source": [
    "data = subprocess.check_output(['netsh', 'wlan', 'show', 'profiles']).decode('utf-8', errors=\"backlashreplace\").split('\\n')"
   ]
  },
  {
   "cell_type": "code",
   "execution_count": 3,
   "metadata": {
    "pycharm": {
     "name": "#%%\n"
    }
   },
   "outputs": [],
   "source": [
    "profiles = [i.split(\":\")[1][1:-1]for i in data if \"All User Profile\" in i]"
   ]
  },
  {
   "cell_type": "markdown",
   "metadata": {},
   "source": [
    "This is a process to see all \"saved\" WIFI Profiles in your PC"
   ]
  },
  {
   "cell_type": "code",
   "execution_count": 4,
   "metadata": {
    "pycharm": {
     "name": "#%%\n"
    }
   },
   "outputs": [
    {
     "name": "stdout",
     "output_type": "stream",
     "text": [
      "Roy Family                    | RoyFamily@2000\n",
      "Roytech Pvt. Ltd.             | 190102159\n",
      "Bhabatosh                     | 9331924084\n",
      "Library-1                     | \n",
      "BHABHA                        | \n",
      "SARABHAI                      | \n",
      "BLOCK-4                       | \n",
      "BLOCK-IV                      | \n",
      "Raj                           | Connect01@03\n",
      "Z3xt5r                        | Connect01@03\n",
      " GMR-Free-WIFI                | \n",
      "LAPTOPIA INFOTECH             | laptopia2019\n"
     ]
    }
   ],
   "source": [
    "for i in profiles:\n",
    "    try:\n",
    "        results = subprocess.check_output(['netsh', 'wlan', 'show', 'profile', i, 'key=clear']).decode('utf-8', errors=\"backlashreplace\").split('\\n')\n",
    "        results = [b.split(\":\")[1][1:-1]for b in results if \"Key Content\" in b]\n",
    "        try:\n",
    "            print(\"{:<30}| {:<}\".format(i, results[0]))\n",
    "        except IndexError:\n",
    "            print(\"{:<30}| {:<}\".format(i,\"\"))\n",
    "    except subprocess.CalledProcessError:\n",
    "        print(\"{:<30}| {:<}\".format(i, \"ENCODING ERROR\"))"
   ]
  },
  {
   "cell_type": "code",
   "execution_count": 5,
   "metadata": {
    "pycharm": {
     "name": "#%%\n"
    }
   },
   "outputs": [
    {
     "data": {
      "text/plain": [
       "''"
      ]
     },
     "execution_count": 5,
     "metadata": {},
     "output_type": "execute_result"
    }
   ],
   "source": [
    "input(\"\")"
   ]
  },
  {
   "cell_type": "markdown",
   "metadata": {},
   "source": [
    "Prints all the saved WIFI profiles alongwith their passwords."
   ]
  }
 ],
 "metadata": {
  "kernelspec": {
   "display_name": "Python 3",
   "language": "python",
   "name": "python3"
  },
  "language_info": {
   "codemirror_mode": {
    "name": "ipython",
    "version": 3
   },
   "file_extension": ".py",
   "mimetype": "text/x-python",
   "name": "python",
   "nbconvert_exporter": "python",
   "pygments_lexer": "ipython3",
   "version": "3.7.4"
  }
 },
 "nbformat": 4,
 "nbformat_minor": 1
}

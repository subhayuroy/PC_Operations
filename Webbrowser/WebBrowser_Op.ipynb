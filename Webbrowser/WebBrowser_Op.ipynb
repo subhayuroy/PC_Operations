{
 "cells": [
  {
   "cell_type": "markdown",
   "metadata": {
    "collapsed": true,
    "pycharm": {
     "name": "#%% md\n"
    }
   },
   "source": [
    "Opening a webpage in Webbrowser in every 15 sec.\n",
    "Then, that webbrowser is closed in the following 15 sec.\n",
    "This process is continued until stopped."
   ]
  },
  {
   "cell_type": "code",
   "execution_count": 3,
   "metadata": {
    "pycharm": {
     "name": "#%%\n"
    }
   },
   "outputs": [],
   "source": [
    "import webbrowser\n",
    "import os\n",
    "from time import sleep"
   ]
  },
  {
   "cell_type": "markdown",
   "metadata": {},
   "source": [
    "Importing the necessary modules required for this program"
   ]
  },
  {
   "cell_type": "code",
   "execution_count": 2,
   "metadata": {
    "pycharm": {
     "is_executing": true,
     "name": "#%%\n"
    }
   },
   "outputs": [],
   "source": [
    "a = 0\n",
    "browserExe = \"chrome.exe\""
   ]
  },
  {
   "cell_type": "markdown",
   "metadata": {},
   "source": [
    "Deciding the Browser to work on"
   ]
  },
  {
   "cell_type": "code",
   "execution_count": 7,
   "metadata": {
    "pycharm": {
     "is_executing": true,
     "name": "#%%\n"
    }
   },
   "outputs": [
    {
     "name": "stdout",
     "output_type": "stream",
     "text": [
      "Do you want to stop the process? [Y/n]Y\n"
     ]
    }
   ],
   "source": [
    "while True:\n",
    "    webbrowser.open_new('http://google.com')\n",
    "    sleep(15)\n",
    "    # os.system(\"kill 'Google Chrome'\")\n",
    "    x = input(\"Do you want to stop the process? [Y/n]\")\n",
    "    if x == 'Y' or x == 'y':\n",
    "        break\n",
    "    os.system(\"taskkill /f /im \" + browserExe)\n",
    "    a += 0\n",
    "    sleep(15)"
   ]
  },
  {
   "cell_type": "markdown",
   "metadata": {},
   "source": [
    "A time-pause/interval of 15 sec is choosen."
   ]
  }
 ],
 "metadata": {
  "kernelspec": {
   "display_name": "Python 3",
   "language": "python",
   "name": "python3"
  },
  "language_info": {
   "codemirror_mode": {
    "name": "ipython",
    "version": 3
   },
   "file_extension": ".py",
   "mimetype": "text/x-python",
   "name": "python",
   "nbconvert_exporter": "python",
   "pygments_lexer": "ipython3",
   "version": "3.7.4"
  }
 },
 "nbformat": 4,
 "nbformat_minor": 1
}